{
 "cells": [
  {
   "cell_type": "code",
   "execution_count": 29,
   "metadata": {},
   "outputs": [],
   "source": [
    "# %pip uninstall python-dotenv\n",
    "# %pip install python-dotenv\n"
   ]
  },
  {
   "cell_type": "code",
   "execution_count": 30,
   "metadata": {},
   "outputs": [],
   "source": [
    "# import some basic python libaries (operating system, regular expressions, time)\n",
    "import os\n",
    "import re\n",
    "import time\n",
    "from datetime import datetime\n",
    "import random\n",
    "import requests\n",
    "# import some selenium components to rememeneber by name\n",
    "from selenium import webdriver\n",
    "from selenium.webdriver.common.keys import Keys\n",
    "from selenium.webdriver.common.by import By\n",
    "from selenium.webdriver.chrome.options import Options\n",
    "from selenium.webdriver.common.action_chains import ActionChains\n",
    "from selenium.webdriver.support.ui import WebDriverWait\n",
    "from selenium.webdriver.support.ui import Select\n",
    "from selenium.webdriver.support import expected_conditions as EC\n",
    "from selenium.common.exceptions import TimeoutException, NoSuchElementException, WebDriverException\n",
    "\n",
    "from selenium_stealth import stealth\n",
    "\n",
    "# Import Load login credentials from .env file, make sure to pip install python-dotenv\n",
    "#import mongoDB, we may add additional databases in the future for better \n",
    "\n",
    "# from dotenv import find_dotenv,load_dotenv\n",
    "# load_dotenv(find_dotenv())\n",
    "\n",
    "from pymongo import MongoClient\n",
    "\n",
    "from bs4 import BeautifulSoup\n"
   ]
  },
  {
   "cell_type": "markdown",
   "metadata": {},
   "source": [
    "# Setup"
   ]
  },
  {
   "cell_type": "code",
   "execution_count": 31,
   "metadata": {},
   "outputs": [
    {
     "name": "stdout",
     "output_type": "stream",
     "text": [
      "0  documents deleted.\n"
     ]
    }
   ],
   "source": [
    "# Create a MongoClient to the running mongod instance\n",
    "client = MongoClient(\"mongodb://localhost:27017\")\n",
    "db = client[\"my_database\"]\n",
    "#Delete all documents in the collection before we start \n",
    "collection_linkedin = db['opportunities_linkedin']\n",
    "result = collection_linkedin.delete_many({})\n",
    "print(result.deleted_count, \" documents deleted.\")\n",
    "url = r\"https://www.linkedin.com/login\"\n",
    "# url = r\"https://www.linkedin.com/jobs/search/?currentJobId=3947699666&distance=25&f_E=1&geoId=101174742&keywords=software%20intern&origin=JOBS_HOME_KEYWORD_HISTORY&refresh=true\"\n",
    "\n",
    "#current tie for log name\n",
    "timestamp = datetime.now().strftime('%Y_%m_%d_%H-%M-%S')\n",
    "\n",
    "# Load the .env file\n",
    "# email = os.getenv(\"LINKEDIN_EMAIL\")\n",
    "# password = os.getenv(\"LINKEDIN_PASSWORD\")"
   ]
  },
  {
   "cell_type": "markdown",
   "metadata": {},
   "source": [
    "# Data Ingestion"
   ]
  },
  {
   "cell_type": "code",
   "execution_count": 32,
   "metadata": {},
   "outputs": [
    {
     "name": "stdout",
     "output_type": "stream",
     "text": [
      "12\n",
      "étudiant Student\n",
      "étudiant Student with verification\n",
      "Covia\n",
      "Mirabel, QC\n",
      "Viewed\n",
      "Promoted\n",
      "Stagiaire en développement Web\n",
      "Stagiaire en développement Web with verification\n",
      "Petal\n",
      "Montréal-Ouest, QC (On-site)\n",
      "Actively recruiting\n",
      "Viewed\n",
      "Promoted\n",
      "C-DS-450 Stagiaire, Technicien(ne) simulateur\n",
      "C-DS-450 Stagiaire, Technicien(ne) simulateur with verification\n",
      "CAE\n",
      "Moose Jaw, SK\n",
      "Actively recruiting\n",
      "Promoted\n",
      "1 applicant\n",
      "Student Mechanic\n",
      "Student Mechanic with verification\n",
      "Prysmian\n",
      "Quebec, Canada (On-site)\n",
      "Actively recruiting\n",
      "Viewed\n",
      "Promoted\n"
     ]
    },
    {
     "ename": "ElementClickInterceptedException",
     "evalue": "Message: element click intercepted: Element <div data-job-id=\"3642674545\" class=\"display-flex job-card-container relative job-card-list\n        job-card-container--clickable\n        \n        job-card-list--underline-title-on-hover  jobs-search-two-pane__job-card-container--viewport-tracking-3\" data-view-name=\"job-card\">...</div> is not clickable at point (232, 621). Other element would receive the click: <strong>...</strong>\n  (Session info: chrome=125.0.6422.176)\nStacktrace:\n\tGetHandleVerifier [0x00007FF699A01F52+60322]\n\t(No symbol) [0x00007FF69997CEC9]\n\t(No symbol) [0x00007FF699837EBA]\n\t(No symbol) [0x00007FF69988F32E]\n\t(No symbol) [0x00007FF69988CCF2]\n\t(No symbol) [0x00007FF69988A18B]\n\t(No symbol) [0x00007FF699889356]\n\t(No symbol) [0x00007FF69987B491]\n\t(No symbol) [0x00007FF6998AC21A]\n\t(No symbol) [0x00007FF69987ADB6]\n\t(No symbol) [0x00007FF6998AC430]\n\t(No symbol) [0x00007FF6998CBC80]\n\t(No symbol) [0x00007FF6998ABFC3]\n\t(No symbol) [0x00007FF699879617]\n\t(No symbol) [0x00007FF69987A211]\n\tGetHandleVerifier [0x00007FF699D194AD+3301629]\n\tGetHandleVerifier [0x00007FF699D636D3+3605283]\n\tGetHandleVerifier [0x00007FF699D59450+3563680]\n\tGetHandleVerifier [0x00007FF699AB4326+790390]\n\t(No symbol) [0x00007FF69998750F]\n\t(No symbol) [0x00007FF699983404]\n\t(No symbol) [0x00007FF699983592]\n\t(No symbol) [0x00007FF699972F9F]\n\tBaseThreadInitThunk [0x00007FFBE35E257D+29]\n\tRtlUserThreadStart [0x00007FFBE520AF28+40]\n",
     "output_type": "error",
     "traceback": [
      "\u001b[1;31m---------------------------------------------------------------------------\u001b[0m",
      "\u001b[1;31mElementClickInterceptedException\u001b[0m          Traceback (most recent call last)",
      "Cell \u001b[1;32mIn[32], line 71\u001b[0m\n\u001b[0;32m     69\u001b[0m \u001b[38;5;28;01mfor\u001b[39;00m title \u001b[38;5;129;01min\u001b[39;00m cards:\n\u001b[0;32m     70\u001b[0m     \u001b[38;5;28mprint\u001b[39m(title\u001b[38;5;241m.\u001b[39mtext)\n\u001b[1;32m---> 71\u001b[0m     \u001b[43mtitle\u001b[49m\u001b[38;5;241;43m.\u001b[39;49m\u001b[43mclick\u001b[49m\u001b[43m(\u001b[49m\u001b[43m)\u001b[49m\n\u001b[0;32m     72\u001b[0m     time\u001b[38;5;241m.\u001b[39msleep(\u001b[38;5;241m3\u001b[39m)\n\u001b[0;32m     76\u001b[0m time\u001b[38;5;241m.\u001b[39msleep(\u001b[38;5;241m5\u001b[39m)\n",
      "File \u001b[1;32m~\\AppData\\Local\\Packages\\PythonSoftwareFoundation.Python.3.10_qbz5n2kfra8p0\\LocalCache\\local-packages\\Python310\\site-packages\\selenium\\webdriver\\remote\\webelement.py:94\u001b[0m, in \u001b[0;36mWebElement.click\u001b[1;34m(self)\u001b[0m\n\u001b[0;32m     92\u001b[0m \u001b[38;5;28;01mdef\u001b[39;00m \u001b[38;5;21mclick\u001b[39m(\u001b[38;5;28mself\u001b[39m) \u001b[38;5;241m-\u001b[39m\u001b[38;5;241m>\u001b[39m \u001b[38;5;28;01mNone\u001b[39;00m:\n\u001b[0;32m     93\u001b[0m \u001b[38;5;250m    \u001b[39m\u001b[38;5;124;03m\"\"\"Clicks the element.\"\"\"\u001b[39;00m\n\u001b[1;32m---> 94\u001b[0m     \u001b[38;5;28;43mself\u001b[39;49m\u001b[38;5;241;43m.\u001b[39;49m\u001b[43m_execute\u001b[49m\u001b[43m(\u001b[49m\u001b[43mCommand\u001b[49m\u001b[38;5;241;43m.\u001b[39;49m\u001b[43mCLICK_ELEMENT\u001b[49m\u001b[43m)\u001b[49m\n",
      "File \u001b[1;32m~\\AppData\\Local\\Packages\\PythonSoftwareFoundation.Python.3.10_qbz5n2kfra8p0\\LocalCache\\local-packages\\Python310\\site-packages\\selenium\\webdriver\\remote\\webelement.py:395\u001b[0m, in \u001b[0;36mWebElement._execute\u001b[1;34m(self, command, params)\u001b[0m\n\u001b[0;32m    393\u001b[0m     params \u001b[38;5;241m=\u001b[39m {}\n\u001b[0;32m    394\u001b[0m params[\u001b[38;5;124m\"\u001b[39m\u001b[38;5;124mid\u001b[39m\u001b[38;5;124m\"\u001b[39m] \u001b[38;5;241m=\u001b[39m \u001b[38;5;28mself\u001b[39m\u001b[38;5;241m.\u001b[39m_id\n\u001b[1;32m--> 395\u001b[0m \u001b[38;5;28;01mreturn\u001b[39;00m \u001b[38;5;28;43mself\u001b[39;49m\u001b[38;5;241;43m.\u001b[39;49m\u001b[43m_parent\u001b[49m\u001b[38;5;241;43m.\u001b[39;49m\u001b[43mexecute\u001b[49m\u001b[43m(\u001b[49m\u001b[43mcommand\u001b[49m\u001b[43m,\u001b[49m\u001b[43m \u001b[49m\u001b[43mparams\u001b[49m\u001b[43m)\u001b[49m\n",
      "File \u001b[1;32m~\\AppData\\Local\\Packages\\PythonSoftwareFoundation.Python.3.10_qbz5n2kfra8p0\\LocalCache\\local-packages\\Python310\\site-packages\\selenium\\webdriver\\remote\\webdriver.py:348\u001b[0m, in \u001b[0;36mWebDriver.execute\u001b[1;34m(self, driver_command, params)\u001b[0m\n\u001b[0;32m    346\u001b[0m response \u001b[38;5;241m=\u001b[39m \u001b[38;5;28mself\u001b[39m\u001b[38;5;241m.\u001b[39mcommand_executor\u001b[38;5;241m.\u001b[39mexecute(driver_command, params)\n\u001b[0;32m    347\u001b[0m \u001b[38;5;28;01mif\u001b[39;00m response:\n\u001b[1;32m--> 348\u001b[0m     \u001b[38;5;28;43mself\u001b[39;49m\u001b[38;5;241;43m.\u001b[39;49m\u001b[43merror_handler\u001b[49m\u001b[38;5;241;43m.\u001b[39;49m\u001b[43mcheck_response\u001b[49m\u001b[43m(\u001b[49m\u001b[43mresponse\u001b[49m\u001b[43m)\u001b[49m\n\u001b[0;32m    349\u001b[0m     response[\u001b[38;5;124m\"\u001b[39m\u001b[38;5;124mvalue\u001b[39m\u001b[38;5;124m\"\u001b[39m] \u001b[38;5;241m=\u001b[39m \u001b[38;5;28mself\u001b[39m\u001b[38;5;241m.\u001b[39m_unwrap_value(response\u001b[38;5;241m.\u001b[39mget(\u001b[38;5;124m\"\u001b[39m\u001b[38;5;124mvalue\u001b[39m\u001b[38;5;124m\"\u001b[39m, \u001b[38;5;28;01mNone\u001b[39;00m))\n\u001b[0;32m    350\u001b[0m     \u001b[38;5;28;01mreturn\u001b[39;00m response\n",
      "File \u001b[1;32m~\\AppData\\Local\\Packages\\PythonSoftwareFoundation.Python.3.10_qbz5n2kfra8p0\\LocalCache\\local-packages\\Python310\\site-packages\\selenium\\webdriver\\remote\\errorhandler.py:229\u001b[0m, in \u001b[0;36mErrorHandler.check_response\u001b[1;34m(self, response)\u001b[0m\n\u001b[0;32m    227\u001b[0m         alert_text \u001b[38;5;241m=\u001b[39m value[\u001b[38;5;124m\"\u001b[39m\u001b[38;5;124malert\u001b[39m\u001b[38;5;124m\"\u001b[39m]\u001b[38;5;241m.\u001b[39mget(\u001b[38;5;124m\"\u001b[39m\u001b[38;5;124mtext\u001b[39m\u001b[38;5;124m\"\u001b[39m)\n\u001b[0;32m    228\u001b[0m     \u001b[38;5;28;01mraise\u001b[39;00m exception_class(message, screen, stacktrace, alert_text)  \u001b[38;5;66;03m# type: ignore[call-arg]  # mypy is not smart enough here\u001b[39;00m\n\u001b[1;32m--> 229\u001b[0m \u001b[38;5;28;01mraise\u001b[39;00m exception_class(message, screen, stacktrace)\n",
      "\u001b[1;31mElementClickInterceptedException\u001b[0m: Message: element click intercepted: Element <div data-job-id=\"3642674545\" class=\"display-flex job-card-container relative job-card-list\n        job-card-container--clickable\n        \n        job-card-list--underline-title-on-hover  jobs-search-two-pane__job-card-container--viewport-tracking-3\" data-view-name=\"job-card\">...</div> is not clickable at point (232, 621). Other element would receive the click: <strong>...</strong>\n  (Session info: chrome=125.0.6422.176)\nStacktrace:\n\tGetHandleVerifier [0x00007FF699A01F52+60322]\n\t(No symbol) [0x00007FF69997CEC9]\n\t(No symbol) [0x00007FF699837EBA]\n\t(No symbol) [0x00007FF69988F32E]\n\t(No symbol) [0x00007FF69988CCF2]\n\t(No symbol) [0x00007FF69988A18B]\n\t(No symbol) [0x00007FF699889356]\n\t(No symbol) [0x00007FF69987B491]\n\t(No symbol) [0x00007FF6998AC21A]\n\t(No symbol) [0x00007FF69987ADB6]\n\t(No symbol) [0x00007FF6998AC430]\n\t(No symbol) [0x00007FF6998CBC80]\n\t(No symbol) [0x00007FF6998ABFC3]\n\t(No symbol) [0x00007FF699879617]\n\t(No symbol) [0x00007FF69987A211]\n\tGetHandleVerifier [0x00007FF699D194AD+3301629]\n\tGetHandleVerifier [0x00007FF699D636D3+3605283]\n\tGetHandleVerifier [0x00007FF699D59450+3563680]\n\tGetHandleVerifier [0x00007FF699AB4326+790390]\n\t(No symbol) [0x00007FF69998750F]\n\t(No symbol) [0x00007FF699983404]\n\t(No symbol) [0x00007FF699983592]\n\t(No symbol) [0x00007FF699972F9F]\n\tBaseThreadInitThunk [0x00007FFBE35E257D+29]\n\tRtlUserThreadStart [0x00007FFBE520AF28+40]\n"
     ]
    }
   ],
   "source": [
    "# Open web page\n",
    "# Add user-agent to the webdriver options\n",
    "user_agents = [\n",
    "    # Your list of user agents goes here\n",
    "    'Mozilla/5.0 (Windows NT 10.0; Win64; x64) AppleWebKit/537.36 (KHTML, like Gecko) Chrome/125.0.0.0 Safari/537.36',\n",
    "    \"Mozilla/5.0 (Windows NT 10.0; Win64; x64) AppleWebKit/537.36 (KHTML, like Gecko) Chrome/108.0.0.0 Safari/537.36\", \n",
    "\"Mozilla/5.0 (Windows NT 10.0; Win64; x64) AppleWebKit/537.36 (KHTML, like Gecko) Chrome/107.0.0.0 Safari/537.36\", \n",
    "]\n",
    "user_agent = random.choice(user_agents)\n",
    "\n",
    "options = webdriver.ChromeOptions()\n",
    "options.add_argument(f\"user-agent={user_agent}\")\n",
    "\n",
    "# Initialize the WebDriver with options\n",
    "driver = webdriver.Chrome(options=options)\n",
    "\n",
    "# more attempts\n",
    "# Adding argument to disable the AutomationControlled flag \n",
    "options.add_argument(\"--disable-blink-features=AutomationControlled\") \n",
    "\n",
    "# Exclude the collection of enable-automation switches \n",
    "options.add_experimental_option(\"excludeSwitches\", [\"enable-automation\"]) \n",
    "\n",
    "# Turn-off userAutomationExtension \n",
    "options.add_experimental_option(\"useAutomationExtension\", False) \n",
    "\n",
    "# Apply stealth settings to the driver\n",
    "stealth(driver,\n",
    "        languages=[\"en-US\", \"en\"],\n",
    "        vendor=\"Google Inc.\",\n",
    "        platform=\"Win32\",\n",
    "        webgl_vendor=\"Intel Inc.\",\n",
    "        renderer=\"Intel Iris OpenGL Engine\",\n",
    "        fix_hairline=True,\n",
    "        )\n",
    "#initialize webdriver\n",
    "driver = webdriver.Chrome(options=options)\n",
    "actions = ActionChains(driver)\n",
    "driver.execute_script(\"Object.defineProperty(navigator, 'webdriver', {get: () => undefined})\") \n",
    "driver.get(url)\n",
    "\n",
    "\n",
    "\n",
    "time.sleep(3)\n",
    "# Login\n",
    "email_box = WebDriverWait(driver, 5).until(EC.presence_of_element_located((By.ID, \"username\")))\n",
    "email_box.send_keys(\"simonandorsimon@gmail.com\")\n",
    "time.sleep(1)\n",
    "password_box = WebDriverWait(driver, 5).until(EC.presence_of_element_located((By.ID, \"password\")))\n",
    "password_box.send_keys(\"Howthefuckdoyouknowmypasswordlittle1\")\n",
    "time.sleep(1)\n",
    "sign_in_button = WebDriverWait(driver, 5).until(EC.presence_of_element_located((By.CSS_SELECTOR, \"button[aria-label='Sign in']\")))\n",
    "sign_in_button.click()\n",
    "# Open search link then ingest all jobs\n",
    "time.sleep(3)\n",
    "search_url = r\"https://www.linkedin.com/jobs/search/?currentJobId=3941700835&f_E=1&geoId=101174742&keywords=software%20intern%20development&location=Canada&origin=JOB_SEARCH_PAGE_KEYWORD_AUTOCOMPLETE&refresh=true\"\n",
    "driver.get(search_url)\n",
    "time.sleep(3)\n",
    "\n",
    "#scroll to page right button\n",
    "page_right_button = driver.find_element(By.ID, 'ember268')\n",
    "actions.move_to_element(page_right_button).perform()\n",
    "\n",
    "# card_box =  WebDriverWait(driver, 5).until(EC.presence_of_element_located((By.TAG_NAME, \"strong\")))\n",
    "cards = driver.find_elements(By.XPATH, \"//div[contains(@class, 'job-card-container--clickable')]\")\n",
    "# print(titles)\n",
    "# Open search link then ingest all jobs\n",
    "print(len(cards))\n",
    "for title in cards:\n",
    "    print(title.text)\n",
    "    title.click()\n",
    "    time.sleep(3)\n",
    "\n",
    "\n",
    "\n",
    "time.sleep(5)\n",
    "# driver.quit()"
   ]
  },
  {
   "cell_type": "code",
   "execution_count": null,
   "metadata": {},
   "outputs": [],
   "source": []
  }
 ],
 "metadata": {
  "kernelspec": {
   "display_name": "Python 3",
   "language": "python",
   "name": "python3"
  },
  "language_info": {
   "codemirror_mode": {
    "name": "ipython",
    "version": 3
   },
   "file_extension": ".py",
   "mimetype": "text/x-python",
   "name": "python",
   "nbconvert_exporter": "python",
   "pygments_lexer": "ipython3",
   "version": "3.10.11"
  }
 },
 "nbformat": 4,
 "nbformat_minor": 2
}
