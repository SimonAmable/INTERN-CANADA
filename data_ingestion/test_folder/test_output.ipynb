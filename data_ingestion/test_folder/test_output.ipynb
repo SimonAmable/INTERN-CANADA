{
 "cells": [
  {
   "cell_type": "code",
   "execution_count": null,
   "metadata": {},
   "outputs": [],
   "source": [
    "import MongoClient from pymongo\n"
   ]
  },
  {
   "cell_type": "code",
   "execution_count": null,
   "metadata": {},
   "outputs": [],
   "source": [
    "client = MongoClient(\"mongodb://localhost:27017\")\n",
    "db = client[\"my_database\"]\n",
    "#Delete all documents in the collection before we start \n",
    "collection = db['opportunities_glassdoor']\n",
    "\n",
    "\n",
    "#retievie 1 docuemnt from the collection\n",
    "doc = collection.find_one()\n",
    "# print(doc[\"data\"])\n",
    "data = doc[\"data\"]"
   ]
  }
 ],
 "metadata": {
  "language_info": {
   "name": "python"
  }
 },
 "nbformat": 4,
 "nbformat_minor": 2
}
