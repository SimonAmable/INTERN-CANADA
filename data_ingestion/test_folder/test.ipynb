{
 "cells": [
  {
   "cell_type": "code",
   "execution_count": 28,
   "metadata": {},
   "outputs": [],
   "source": [
    "# %pip install pymongo\n",
    "pip install dotenv"
   ]
  },
  {
   "cell_type": "code",
   "execution_count": 29,
   "metadata": {},
   "outputs": [],
   "source": [
    "import os\n",
    "from pymongo import MongoClient\n",
    "from openai import OpenAI\n",
    "import json\n",
    "from dotenv import load_env"
   ]
  },
  {
   "cell_type": "code",
   "execution_count": 30,
   "metadata": {},
   "outputs": [
    {
     "name": "stdout",
     "output_type": "stream",
     "text": [
      "ChatCompletionMessage(content=None, role='assistant', function_call=None, tool_calls=[ChatCompletionMessageToolCall(id='call_SwpUxQdCMSCAIHu0AOYrjnfM', function=Function(arguments='{\"title\":\"Frontend Software Engineer Intern\",\"company\":\"GreatFrontEnd\",\"season\":\"NA\",\"location\":\"NA\",\"description\":\"This is a paid, fully remote, internship role open to international applicants. As a Front End Engineering intern, you will partner closely with GreatFrontEnd\\'s engineering, product and design teams to conceptualize, scope and build new projects from the ground up. You will work in an environment with a heavy emphasis on highly-polished user experiences, experimentation, and front end infrastructure. In doing so, you will grow rapidly in your front end skills, while building projects and tools that millions of front end engineers will potentially use.\"}', name='get_current_weather'), type='function')])\n",
      "{'title': 'Frontend Software Engineer Intern', 'company': 'GreatFrontEnd', 'season': 'NA', 'location': 'NA', 'description': \"This is a paid, fully remote, internship role open to international applicants. As a Front End Engineering intern, you will partner closely with GreatFrontEnd's engineering, product and design teams to conceptualize, scope and build new projects from the ground up. You will work in an environment with a heavy emphasis on highly-polished user experiences, experimentation, and front end infrastructure. In doing so, you will grow rapidly in your front end skills, while building projects and tools that millions of front end engineers will potentially use.\"}\n"
     ]
    }
   ],
   "source": [
    "\n",
    "client = MongoClient(\"mongodb://localhost:27017\")\n",
    "db = client[\"my_database\"]\n",
    "#Delete all documents in the collection before we start \n",
    "collection = db['opportunities_glassdoor']\n",
    "open_ai_api_key=\"d\"\n",
    "\n",
    "#retievie 1 docuemnt from the collection\n",
    "doc = collection.find({})\n",
    "# print(doc[\"data\"])\n",
    "data = doc[\"data\"]\n",
    "\n",
    "tools = [\n",
    "  {\n",
    "    \"type\": \"function\",\n",
    "    \"function\": {\n",
    "      \"name\": \"get_job_json\",\n",
    "      \"description\": \"Turn this raw text containing Job description into Structions JSON with the keys:(title,company,location,salary,description,)\",\n",
    "      \"parameters\": {\n",
    "        \"type\": \"object\",\n",
    "        \"properties\": {\n",
    "          \"title\": {\n",
    "            \"type\": \"string\",\n",
    "            \"description\": \"The name of the job position, e.g. Junior Software Engineer\",\n",
    "          },\n",
    "          \"company\": {\"type\": \"string\", \"description\": \"The name of the company, e.g. Google\"},\n",
    "          \"season\": {\"type\": \"string\", \"description\": \"The relevant time in seasons, e.g. Summer / 2024\"},\n",
    "          \"location\": {\"type\": \"string\",\"description\": \"The city and province, e.g. Ottawa, Ontario\"},\n",
    "          \"description\": {\"type\": \"string\",\"description\": \"\"\"A description of the job and any other information about the job, e.g. \n",
    "                          Who are we?\n",
    "Our mission is to scale intelligence to serve humanity. We’re training and deploying frontier models for developers and enterprises who are building AI systems to power magical experiences like semantic search, RAG, and agents. We believe that our work is instrumental to the widespread adoption of AI.\n",
    "\n",
    "We obsess over what we build. Each one of us is responsible for contributing to increasing the capabilities of our models and the value they drive for our customers. We like to work hard and move fast to do what’s best for our customers.\n",
    "\n",
    "Cohere is a team of researchers, engineers, designers, and more, who are passionate about their craft. Each person is the one of the best in the world at what they do. We believe that a diverse range of perspectives is a requirement for building great products.\n",
    "\n",
    "Join us on our mission and shape the future!\n",
    "\n",
    "Why this role?\n",
    "This role is for students who are excited about building the next generation of machine learning models and NLP products. Our SWE roles can cover creating datasets for machine learning, scaling the pods to serve our API, or even building out new security features on our platform. We don't distinguish much between interns and full-time employees, and you’ll have plenty of opportunities to push code to production. You'll have full autonomy and ownership over high-impact work, and will be backed by the support of an incredible team or leaders & mentors. Join us at a pivotal moment, shape what we build, and wear multiple hats!\n",
    "\n",
    "We're currently hiring for multiple teams and roles, including Frontend, Backend, Full-stack, and Infrastructure roles. We'll take your interests & experience into account throughout the application process.\n",
    "\n",
    "Our recruitment process will begin in the upcoming weeks, and we will be carefully reviewing applications and assessing potential candidates for our internships. Should we find a suitable match with your qualifications and our requirements, we will be in touch to discuss the opportunity further and to advance your application to the next stage. Please apply by June 28th.\n",
    "\n",
    "Please Note: To be eligible for this position, you should be currently enrolled in a post-secondary program and available for a full-time 3-6 month internship, co-op, or research work term. We have offices in Toronto, San Francisco, New York, and London but embrace being remote-friendly! There are no restrictions on where you can be located for this role.\n",
    "As a Software Engineering Intern, you will:\n",
    "Ship delightful experiences for our user-facing products, meticulously crafting code for browsers or server code.\n",
    "Build features for the API platform that directly impact users.\n",
    "Design and implement robust data pipelines (crawlers, storage, filters).\n",
    "Design and implement scalable services or infrastructure for machine learning development.\n",
    "Build internal tooling (CI/CD, dev utilities) to move faster together.\n",
    "Build tech writing skills through maintaining and contributing to technical documentation, both internal and external facing.\n",
    "Keep up with the cutting edge and adopt new technologies to improve performance and reliability across Cohere.\n",
    "\n",
    "If some of the above doesn’t line up perfectly with your experience, we still encourage you to apply! If you consider yourself a thoughtful worker, a lifelong learner, and a kind and playful team member, Cohere is the place for you.\n",
    "\n",
    "We value and celebrate diversity and strive to create an inclusive work environment for all. We welcome applicants of all kinds and are committed to providing an equal opportunity process. Cohere provides accessibility accommodations during the recruitment process. Should you require any accommodation, please let us know and we will work with you to meet your needs.\n",
    "\n",
    "Our Perks:\n",
    "An open and inclusive culture and work environment\n",
    "‍ Work closely with a team on the cutting edge of AI research\n",
    "Free daily lunch\n",
    "Full health and dental benefits, including a separate budget to take care of your mental health\n",
    "Personal enrichment benefits towards arts and culture, fitness and well-being\n",
    "Remote-flexible, offices in Toronto, New York, San Francisco and London and coworking stipends\n",
    "✈️ Paid vacation\n",
    "Show less\n",
    "Company overview\n",
    "Size\n",
    "1 to 50 Employees\n",
    "Founded\n",
    "--\n",
    "Type\n",
    "Company - Private\n",
    "Industry\n",
    "Advertising & Public Relations\n",
    "Sector\n",
    "Media and communication\n",
    "Revenue\"\"\"},\n",
    "        },\n",
    "        \"required\": [\"location\",\"company\",\"title\",\"season\",\"description\",],\n",
    "      },\n",
    "    }\n",
    "  }\n",
    "]\n",
    "\n",
    "\n",
    "def chat_completion_request(messages, tools=None, tool_choice=None, model=\"gpt-3.5-turbo-0125\"):\n",
    "    try:\n",
    "        response = client.chat.completions.create(\n",
    "            model=model,\n",
    "            messages=messages,\n",
    "            tools=tools,\n",
    "            tool_choice=tool_choice,\n",
    "        )\n",
    "        return response\n",
    "    except Exception as e:\n",
    "        print(\"Unable to generate ChatCompletion response\")\n",
    "        print(f\"Exception: {e}\")\n",
    "        return e\n",
    "\n",
    "\n",
    "# CALL CHAT COMPLETION TO TEST\n",
    "messages = []\n",
    "messages.append({\"role\": \"system\", \"content\": \"If information is not avalible do not make asumtions, simply return 'NA' .\"})\n",
    "messages.append({\"role\": \"user\", \"content\": f\"{data}\"})\n",
    "chat_response = chat_completion_request(\n",
    "    messages, tools=tools\n",
    ")\n",
    "assistant_message = chat_response.choices[0].message\n",
    "messages.append(assistant_message)\n",
    "print (assistant_message)\n",
    "\n",
    "if assistant_message.tool_calls:\n",
    "    tool_call = assistant_message.tool_calls[0]\n",
    "    json_content = tool_call.function.arguments  # Access the arguments directly\n",
    "    parsed_json = json.loads(json_content)\n",
    "    print(parsed_json)\n",
    "else:\n",
    "    print(\"No tool calls found in the assistant message.\")"
   ]
  },
  {
   "cell_type": "code",
   "execution_count": 31,
   "metadata": {},
   "outputs": [
    {
     "data": {
      "text/plain": [
       "\"GreatFrontEnd\\nFrontend Software Engineer Intern (CA, Remote)\\nRemote\\nEasy Apply\\nEasy Apply\\nWhat you'll do\\nThis is a paid, fully remote, internship role open to international applicants.\\nAs a Front End Engineering intern, you will partner closely with GreatFrontEnd's engineering, product and design teams to conceptualize, scope and build new projects from the ground up. You will work in an environment with a heavy emphasis on highly-polished user experiences, experimentation, and front end infrastructure. In doing so, you will grow rapidly in your front end skills, while building projects and tools that millions of front end engineers will potentially use.\\nResponsibilities\\nWork with a team of technically sophisticated engineers who put users first to craft new products and features that impact hundreds of thousands of engineers around the world\\nPartner with business, product and design to translate growth strategies into technical plans.\\nScope, design, and develop new technical projects, laying the groundwork for early-stage products to iteratively evolve and scale.\\nUphold our high engineering standards and bring consistency to the many codebases and processes you will encounter.\\nWho you are\\nWe're looking for someone who meets the minimum considerations to be considered for the role. Preferred qualifications are a bonus.\\nMinimum requirements\\nSome software development experience, with an emphasis on modern front end technologies (HTML, CSS, TypeScript, React) and building delightful user interfaces.\\nMotivated by solving hard problems, and measuring your success in terms of impact doing so.\\nThrive in a highly collaborative environment involving different stakeholders and subject matter experts.\\nEnjoy working with a diverse group of people with different areas of expertise.\\nPreferred requirements\\nExperience with our current technical stack:\\nReact-based rendering frameworks like Next.js, Remix, or Docusaurus.\\nKnowledge or experience with React Server Components (GreatFrontEnd uses Next.js 13 app directory).\\nMarkdown processing, especially MDX v2 and the ecosystem (Remark, Rehype).\\nUI: React, Headless UI, Radix UI.\\nStyling: Tailwind CSS.\\nDatabase/ORMs: PostgreSQL, Supabase, Prisma.\\nPrevious experience working in a fast-paced environment.\\nPay and benefits\\nThe rate for this role will be narrowed down based on a number of factors, including the candidate's experience, qualifications, and actual location.\\nInterested applicants should apply on our website at: https://www.greatfrontend.com/jobs/front-end-software-engineer-intern\\nJob Type: Internship / Co-op\\nContract length: 8 months\\nWork Location: Remote\\nShow less\\nCompany overview\\nSize\\nUnknown\\nFounded\\n--\\nType\\nCompany - Public\\nIndustry\\n--\\nSector\\n--\\nRevenue\\nUnknown / Non-Applicable\""
      ]
     },
     "execution_count": 31,
     "metadata": {},
     "output_type": "execute_result"
    }
   ],
   "source": [
    "data"
   ]
  }
 ],
 "metadata": {
  "kernelspec": {
   "display_name": "Python 3",
   "language": "python",
   "name": "python3"
  },
  "language_info": {
   "codemirror_mode": {
    "name": "ipython",
    "version": 3
   },
   "file_extension": ".py",
   "mimetype": "text/x-python",
   "name": "python",
   "nbconvert_exporter": "python",
   "pygments_lexer": "ipython3",
   "version": "3.10.11"
  }
 },
 "nbformat": 4,
 "nbformat_minor": 2
}
