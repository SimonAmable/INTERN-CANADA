{
 "cells": [
  {
   "cell_type": "code",
   "execution_count": 8,
   "metadata": {},
   "outputs": [],
   "source": [
    "# %pip instal pymongo\n",
    "# %pip instal python-dotenv\n"
   ]
  },
  {
   "cell_type": "code",
   "execution_count": 9,
   "metadata": {},
   "outputs": [],
   "source": [
    "from pymongo.mongo_client import MongoClient\n",
    "from pymongo.server_api import ServerApi\n",
    "from dotenv import load_dotenv\n",
    "import os"
   ]
  },
  {
   "cell_type": "code",
   "execution_count": 10,
   "metadata": {},
   "outputs": [],
   "source": [
    "load_dotenv()\n",
    "# Get environment variables\n",
    "\n",
    "mongodb_atlas_uri = os.getenv('MONGODB_ATLAS_URI')\n"
   ]
  },
  {
   "cell_type": "code",
   "execution_count": 16,
   "metadata": {},
   "outputs": [
    {
     "name": "stdout",
     "output_type": "stream",
     "text": [
      "Pinged your deployment. You successfully connected to MongoDB!\n"
     ]
    }
   ],
   "source": [
    "# ---------------------------- THIS BLOCK CONNECTS TO MONGO DB ATLAS SRVER-------------------------------------------------------------\n",
    "\n",
    "\n",
    "# Create a new client and connect to the server\n",
    "client = MongoClient(mongodb_atlas_uri, server_api=ServerApi('1'))\n",
    "# Send a ping to confirm a successful connection\n",
    "\n",
    "try:\n",
    "    client.admin.command('ping')\n",
    "    print(\"Pinged your deployment. You successfully connected to MongoDB!\")\n",
    "except Exception as e:\n",
    "    print(e)\n",
    "db = client[\"canadian_intership_database\"]\n",
    "collection = db['opportunities_glassdoor']\n",
    "\n",
    "# -----------------------------------------------------------------------------------------\n"
   ]
  },
  {
   "cell_type": "code",
   "execution_count": 17,
   "metadata": {},
   "outputs": [],
   "source": [
    "# index_name = collection.create_index([('title', 'text'), ('description', 'text'), ('company', 'text')])\n"
   ]
  },
  {
   "cell_type": "code",
   "execution_count": 18,
   "metadata": {},
   "outputs": [],
   "source": [
    "import re\n",
    "regex =  r\"keyword, 'i'\"\n",
    "\n",
    "regex = re.compile(regex)\n",
    "\n",
    "results = collection.find({\n",
    "    \"$or\": [\n",
    "        {\"title\": {\"$regex\": regex}},\n",
    "        {\"description\": {\"$regex\": regex}},\n",
    "        {\"company\": {\"$regex\": regex}}\n",
    "    ]\n",
    "}).skip(0).limit(20)"
   ]
  },
  {
   "cell_type": "code",
   "execution_count": 20,
   "metadata": {},
   "outputs": [
    {
     "ename": "AttributeError",
     "evalue": "'Cursor' object has no attribute 'json'",
     "output_type": "error",
     "traceback": [
      "\u001b[1;31m---------------------------------------------------------------------------\u001b[0m",
      "\u001b[1;31mAttributeError\u001b[0m                            Traceback (most recent call last)",
      "Cell \u001b[1;32mIn[20], line 2\u001b[0m\n\u001b[0;32m      1\u001b[0m \u001b[38;5;28;01mimport\u001b[39;00m \u001b[38;5;21;01mjson\u001b[39;00m\n\u001b[1;32m----> 2\u001b[0m results\u001b[38;5;241m.\u001b[39mjson()\n",
      "\u001b[1;31mAttributeError\u001b[0m: 'Cursor' object has no attribute 'json'"
     ]
    }
   ],
   "source": [
    "import json\n",
    "results.json()"
   ]
  }
 ],
 "metadata": {
  "kernelspec": {
   "display_name": "base",
   "language": "python",
   "name": "python3"
  },
  "language_info": {
   "codemirror_mode": {
    "name": "ipython",
    "version": 3
   },
   "file_extension": ".py",
   "mimetype": "text/x-python",
   "name": "python",
   "nbconvert_exporter": "python",
   "pygments_lexer": "ipython3",
   "version": "3.11.7"
  }
 },
 "nbformat": 4,
 "nbformat_minor": 2
}
